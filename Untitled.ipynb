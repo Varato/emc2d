{
 "cells": [
  {
   "cell_type": "code",
   "execution_count": 1,
   "metadata": {},
   "outputs": [],
   "source": [
    "import numpy as np"
   ]
  },
  {
   "cell_type": "code",
   "execution_count": 22,
   "metadata": {},
   "outputs": [],
   "source": [
    "def initialize_model(init_model, frames, frame_size=(128, 128), max_drift=10):\n",
    "    \"\"\"\n",
    "    regularise the initial model, including pad the initial model according to img_size and max_drift.\n",
    "    Parameters\n",
    "    ----------\n",
    "    init_model: str or numpy array\n",
    "    img_size: tuple or list\n",
    "    max_drift: int\n",
    "    Returns\n",
    "    -------\n",
    "    the regularized initial model\n",
    "    \"\"\"\n",
    "    \n",
    "\n",
    "    expected_model_size = (frame_size[0] + 2*max_drift + 1,\n",
    "                           frame_size[1] + 2*max_drift + 1)\n",
    "    \n",
    "    print(expected_model_size)\n",
    "\n",
    "    if (type(init_model) is str) and init_model == 'random':\n",
    "        return np.random.rand(*expected_model_size)\n",
    "\n",
    "    model = None\n",
    "    if (type(init_model) is str) and init_model == 'sum':\n",
    "        model = frames.sum(0)\n",
    "    elif type(init_model) is np.ndarray:\n",
    "        if not init_model.ndim == 2:\n",
    "            raise ValueError(\"initial_model has to be a 2D array.\")\n",
    "        model = init_model\n",
    "    else:\n",
    "        raise ValueError(\"unknown initial model type. initial model can be 'random', 'sum', or a numpy array.\")\n",
    "\n",
    "    init_shape = model.shape\n",
    "\n",
    "    assert model is not None\n",
    "\n",
    "    # if any dimension of the given model is smaller than the pexpected shape, pad that dimension.\n",
    "    is_smaller = [l < lt for l, lt in zip(init_shape, expected_model_size)]\n",
    "    if any(is_smaller):\n",
    "        px = expected_model_size[0] - init_shape[0] if is_smaller[0] else 0\n",
    "        py = expected_model_size[1] - init_shape[1] if is_smaller[1] else 0\n",
    "        print(px, py)\n",
    "        pad_width = (\n",
    "            (px//2, px//2) if px%2 == 0 else (px//2 + 1, px//2), \n",
    "            (py//2, py//2) if py%2 == 0 else (py//2 + 1, py//2))\n",
    "        return np.pad(model, pad_width, mode='constant', constant_values=0)\n",
    "    # if both dimensions of the given model is larger than or equal to the target size, crop it\n",
    "    else:\n",
    "        margin = [init_shape[i] - expected_model_size[i] for i in range(2)]\n",
    "        start_x = margin[0]//2 if margin[0]%2 == 0 else margin[0]//2 + 1\n",
    "        start_y = margin[1]//2 if margin[1]%2 == 0 else margin[1]//2 + 1\n",
    "        return model[start_x:start_x+expected_model_size[0], start_y:start_y+expected_model_size[1]]"
   ]
  },
  {
   "cell_type": "code",
   "execution_count": 23,
   "metadata": {},
   "outputs": [],
   "source": [
    "frames = np.zeros(shape=(100, 128, 128))"
   ]
  },
  {
   "cell_type": "code",
   "execution_count": 24,
   "metadata": {},
   "outputs": [
    {
     "name": "stdout",
     "output_type": "stream",
     "text": [
      "(149, 149)\n",
      "70 45\n",
      "(149, 149)\n"
     ]
    }
   ],
   "source": [
    "m = initialize_model(np.zeros(shape=(289, 238)), frames)\n",
    "print(m.shape)"
   ]
  },
  {
   "cell_type": "code",
   "execution_count": 16,
   "metadata": {},
   "outputs": [],
   "source": [
    "a = (1,2); b = [3,4]"
   ]
  },
  {
   "cell_type": "code",
   "execution_count": 18,
   "metadata": {},
   "outputs": [
    {
     "data": {
      "text/plain": [
       "[-2, -2]"
      ]
     },
     "execution_count": 18,
     "metadata": {},
     "output_type": "execute_result"
    }
   ],
   "source": [
    "[a[i] - b[i] for i in range(2)]"
   ]
  },
  {
   "cell_type": "code",
   "execution_count": 27,
   "metadata": {},
   "outputs": [],
   "source": [
    "def make_drifts(max_drift):\n",
    "    return np.array([max_drift, max_drift])- np.array([(x, y) for x in range(2*max_drift + 1) for y in range(2*max_drift + 1)])"
   ]
  },
  {
   "cell_type": "code",
   "execution_count": 29,
   "metadata": {},
   "outputs": [],
   "source": [
    "drifts = make_drifts(10)"
   ]
  },
  {
   "cell_type": "code",
   "execution_count": 32,
   "metadata": {},
   "outputs": [
    {
     "data": {
      "text/plain": [
       "-10"
      ]
     },
     "execution_count": 32,
     "metadata": {},
     "output_type": "execute_result"
    }
   ],
   "source": [
    "drifts[:,0].min()"
   ]
  },
  {
   "cell_type": "code",
   "execution_count": 33,
   "metadata": {},
   "outputs": [
    {
     "data": {
      "text/plain": [
       "10"
      ]
     },
     "execution_count": 33,
     "metadata": {},
     "output_type": "execute_result"
    }
   ],
   "source": [
    "drifts[:,0].max()"
   ]
  },
  {
   "cell_type": "code",
   "execution_count": 34,
   "metadata": {},
   "outputs": [],
   "source": [
    "def expand(model, window_size, max_drift, drift_indices):\n",
    "    n = drift_table.shape[0]\n",
    "    expanded_model = np.empty(shape=(n, *window))\n",
    "    drifts = make_drift_vectors(max_drift, origin='corner')\n",
    "\n",
    "    for i in drift_indices:\n",
    "        s = drifts[i]\n",
    "        expanded_model[i, :, :] = model[s[0]:s[0]+window_size[0], s[1]:s[1]+window_size[1]]\n",
    "\n",
    "    return expanded_model"
   ]
  },
  {
   "cell_type": "code",
   "execution_count": 37,
   "metadata": {},
   "outputs": [
    {
     "data": {
      "text/plain": [
       "-92.10340371976183"
      ]
     },
     "execution_count": 37,
     "metadata": {},
     "output_type": "execute_result"
    }
   ],
   "source": [
    "np.log(1e-40)"
   ]
  },
  {
   "cell_type": "code",
   "execution_count": null,
   "metadata": {},
   "outputs": [],
   "source": []
  }
 ],
 "metadata": {
  "kernelspec": {
   "display_name": "Python 3",
   "language": "python",
   "name": "python3"
  },
  "language_info": {
   "codemirror_mode": {
    "name": "ipython",
    "version": 3
   },
   "file_extension": ".py",
   "mimetype": "text/x-python",
   "name": "python",
   "nbconvert_exporter": "python",
   "pygments_lexer": "ipython3",
   "version": "3.7.7"
  }
 },
 "nbformat": 4,
 "nbformat_minor": 4
}
